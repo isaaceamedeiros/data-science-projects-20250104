{
 "cells": [
  {
   "cell_type": "code",
   "execution_count": 115,
   "metadata": {},
   "outputs": [],
   "source": [
    "import pandas as pd\n",
    "import os\n",
    "import numpy as np\n",
    "import csv\n",
    "from pathlib import Path\n",
    "from mlxtend.preprocessing import TransactionEncoder\n",
    "from mlxtend.frequent_patterns import fpgrowth, association_rules"
   ]
  },
  {
   "cell_type": "code",
   "execution_count": 64,
   "metadata": {},
   "outputs": [],
   "source": [
    "current_dir = os.getcwd()"
   ]
  },
  {
   "cell_type": "code",
   "execution_count": 95,
   "metadata": {},
   "outputs": [],
   "source": [
    "#dataset_path = os.path.join(current_dir, \"../data/raw/dataset-kaggle.csv\")"
   ]
  },
  {
   "cell_type": "code",
   "execution_count": 99,
   "metadata": {},
   "outputs": [],
   "source": [
    "#df = pd.read_csv(dataset_path,header=None, index_col=None, names=[f\"Item_{i}\" for i in range(1, 21)])"
   ]
  },
  {
   "cell_type": "code",
   "execution_count": 106,
   "metadata": {},
   "outputs": [],
   "source": [
    "np.random.seed(42)\n",
    "data = {\n",
    "    \"nivel\": np.random.randint(1, 4, size=1000),\n",
    "    \"idade\": np.random.randint(18, 65, size=1000),\n",
    "    \"experiencia\": np.random.randint(0, 40, size=1000),\n",
    "    \"salario\": np.random.randint(2000, 20000, size=1000),\n",
    "    \"horas_trabalho\": np.random.randint(20, 60, size=1000),\n",
    "    \"target\": np.random.choice([0, 1], size=1000, p=[0.6, 0.4]),\n",
    "}"
   ]
  },
  {
   "cell_type": "code",
   "execution_count": 107,
   "metadata": {},
   "outputs": [],
   "source": [
    "df = pd.DataFrame(data)"
   ]
  },
  {
   "cell_type": "code",
   "execution_count": 109,
   "metadata": {},
   "outputs": [
    {
     "data": {
      "text/html": [
       "<div>\n",
       "<style scoped>\n",
       "    .dataframe tbody tr th:only-of-type {\n",
       "        vertical-align: middle;\n",
       "    }\n",
       "\n",
       "    .dataframe tbody tr th {\n",
       "        vertical-align: top;\n",
       "    }\n",
       "\n",
       "    .dataframe thead th {\n",
       "        text-align: right;\n",
       "    }\n",
       "</style>\n",
       "<table border=\"1\" class=\"dataframe\">\n",
       "  <thead>\n",
       "    <tr style=\"text-align: right;\">\n",
       "      <th></th>\n",
       "      <th>nivel</th>\n",
       "      <th>idade</th>\n",
       "      <th>experiencia</th>\n",
       "      <th>salario</th>\n",
       "      <th>horas_trabalho</th>\n",
       "      <th>target</th>\n",
       "    </tr>\n",
       "  </thead>\n",
       "  <tbody>\n",
       "    <tr>\n",
       "      <th>0</th>\n",
       "      <td>3</td>\n",
       "      <td>20</td>\n",
       "      <td>23</td>\n",
       "      <td>5864</td>\n",
       "      <td>22</td>\n",
       "      <td>0</td>\n",
       "    </tr>\n",
       "    <tr>\n",
       "      <th>1</th>\n",
       "      <td>1</td>\n",
       "      <td>48</td>\n",
       "      <td>19</td>\n",
       "      <td>2226</td>\n",
       "      <td>25</td>\n",
       "      <td>1</td>\n",
       "    </tr>\n",
       "    <tr>\n",
       "      <th>2</th>\n",
       "      <td>3</td>\n",
       "      <td>57</td>\n",
       "      <td>36</td>\n",
       "      <td>17036</td>\n",
       "      <td>34</td>\n",
       "      <td>0</td>\n",
       "    </tr>\n",
       "    <tr>\n",
       "      <th>3</th>\n",
       "      <td>3</td>\n",
       "      <td>54</td>\n",
       "      <td>3</td>\n",
       "      <td>13739</td>\n",
       "      <td>46</td>\n",
       "      <td>0</td>\n",
       "    </tr>\n",
       "    <tr>\n",
       "      <th>4</th>\n",
       "      <td>1</td>\n",
       "      <td>53</td>\n",
       "      <td>27</td>\n",
       "      <td>18648</td>\n",
       "      <td>29</td>\n",
       "      <td>1</td>\n",
       "    </tr>\n",
       "  </tbody>\n",
       "</table>\n",
       "</div>"
      ],
      "text/plain": [
       "   nivel  idade  experiencia  salario  horas_trabalho  target\n",
       "0      3     20           23     5864              22       0\n",
       "1      1     48           19     2226              25       1\n",
       "2      3     57           36    17036              34       0\n",
       "3      3     54            3    13739              46       0\n",
       "4      1     53           27    18648              29       1"
      ]
     },
     "execution_count": 109,
     "metadata": {},
     "output_type": "execute_result"
    }
   ],
   "source": [
    "df.head(5)"
   ]
  },
  {
   "cell_type": "markdown",
   "metadata": {},
   "source": [
    "# Filtering only data with target = 1"
   ]
  },
  {
   "cell_type": "code",
   "execution_count": 110,
   "metadata": {},
   "outputs": [],
   "source": [
    "df_target1 = df[df['target'] == 1].copy()"
   ]
  },
  {
   "cell_type": "markdown",
   "metadata": {},
   "source": [
    "# Apply discretization for all numerical columns"
   ]
  },
  {
   "cell_type": "code",
   "execution_count": 112,
   "metadata": {},
   "outputs": [],
   "source": [
    "num_cols = [\"idade\", \"experiencia\", \"salario\", \"horas_trabalho\"]\n",
    "for col in num_cols:\n",
    "    bins = np.percentile(df_target1[col], [0, 25, 50, 75, 100])\n",
    "    labels = [f\"{bins[i]:.0f} <= {col} < {bins[i+1]:.0f}\" for i in range(len(bins) - 1)]\n",
    "    df_target1[col] = pd.cut(df_target1[col], bins=bins, labels=labels, include_lowest=True)"
   ]
  },
  {
   "cell_type": "code",
   "execution_count": 121,
   "metadata": {},
   "outputs": [],
   "source": [
    "transactions = df_target1.apply(lambda row: [f\"{col}={val}\" for col, val in row.items() if col != \"target\"], axis=1).tolist()"
   ]
  },
  {
   "cell_type": "code",
   "execution_count": 126,
   "metadata": {},
   "outputs": [],
   "source": [
    "te = TransactionEncoder()\n",
    "te_array = te.fit(transactions).transform(transactions)\n",
    "df_trans = pd.DataFrame(te_array, columns=te.columns_)"
   ]
  },
  {
   "cell_type": "code",
   "execution_count": 129,
   "metadata": {},
   "outputs": [],
   "source": [
    "frequent_itemsets = fpgrowth(df_trans, min_support=0.2, use_colnames=True)\n",
    "rules = association_rules(frequent_itemsets, metric=\"confidence\", min_threshold=0.8)"
   ]
  },
  {
   "cell_type": "code",
   "execution_count": 130,
   "metadata": {},
   "outputs": [
    {
     "data": {
      "text/html": [
       "<div>\n",
       "<style scoped>\n",
       "    .dataframe tbody tr th:only-of-type {\n",
       "        vertical-align: middle;\n",
       "    }\n",
       "\n",
       "    .dataframe tbody tr th {\n",
       "        vertical-align: top;\n",
       "    }\n",
       "\n",
       "    .dataframe thead th {\n",
       "        text-align: right;\n",
       "    }\n",
       "</style>\n",
       "<table border=\"1\" class=\"dataframe\">\n",
       "  <thead>\n",
       "    <tr style=\"text-align: right;\">\n",
       "      <th></th>\n",
       "      <th>antecedents</th>\n",
       "      <th>consequents</th>\n",
       "      <th>antecedent support</th>\n",
       "      <th>consequent support</th>\n",
       "      <th>support</th>\n",
       "      <th>confidence</th>\n",
       "      <th>lift</th>\n",
       "      <th>leverage</th>\n",
       "      <th>conviction</th>\n",
       "      <th>zhangs_metric</th>\n",
       "    </tr>\n",
       "  </thead>\n",
       "  <tbody>\n",
       "  </tbody>\n",
       "</table>\n",
       "</div>"
      ],
      "text/plain": [
       "Empty DataFrame\n",
       "Columns: [antecedents, consequents, antecedent support, consequent support, support, confidence, lift, leverage, conviction, zhangs_metric]\n",
       "Index: []"
      ]
     },
     "execution_count": 130,
     "metadata": {},
     "output_type": "execute_result"
    }
   ],
   "source": [
    "rules"
   ]
  },
  {
   "cell_type": "code",
   "execution_count": 120,
   "metadata": {},
   "outputs": [
    {
     "name": "stdout",
     "output_type": "stream",
     "text": [
      "Padrões Frequentes:\n",
      "     support                                    itemsets\n",
      "0   0.371353                                   (nivel=1)\n",
      "1   0.302387         (experiencia=9 <= experiencia < 20)\n",
      "2   0.270557  (horas_trabalho=20 <= horas_trabalho < 30)\n",
      "3   0.251989            (salario=2024 <= salario < 6776)\n",
      "4   0.244032                    (idade=45 <= idade < 54)\n",
      "5   0.249337          (salario=14867 <= salario < 19951)\n",
      "6   0.334218                                   (nivel=3)\n",
      "7   0.249337          (salario=11101 <= salario < 14867)\n",
      "8   0.228117  (horas_trabalho=49 <= horas_trabalho < 59)\n",
      "9   0.270557  (horas_trabalho=38 <= horas_trabalho < 49)\n",
      "10  0.254642          (experiencia=0 <= experiencia < 9)\n",
      "11  0.294430                                   (nivel=2)\n",
      "12  0.249337        (experiencia=29 <= experiencia < 39)\n",
      "13  0.233422                    (idade=54 <= idade < 64)\n",
      "14  0.275862                    (idade=18 <= idade < 32)\n",
      "15  0.230769  (horas_trabalho=30 <= horas_trabalho < 38)\n",
      "16  0.246684                    (idade=32 <= idade < 45)\n",
      "17  0.249337           (salario=6776 <= salario < 11101)\n",
      "\n",
      "Regras de Associação:\n",
      "Empty DataFrame\n",
      "Columns: [antecedents, consequents, support, confidence]\n",
      "Index: []\n"
     ]
    }
   ],
   "source": [
    "print(\"Padrões Frequentes:\")\n",
    "print(frequent_itemsets)\n",
    "print(\"\\nRegras de Associação:\")\n",
    "print(rules[[\"antecedents\", \"consequents\", \"support\", \"confidence\"]])"
   ]
  },
  {
   "cell_type": "code",
   "execution_count": 135,
   "metadata": {},
   "outputs": [
    {
     "name": "stdout",
     "output_type": "stream",
     "text": [
      "Empty DataFrame\n",
      "Columns: [antecedents, consequents, antecedent support, consequent support, support, confidence, lift, leverage, conviction, zhangs_metric]\n",
      "Index: []\n"
     ]
    }
   ],
   "source": [
    "rules_filtered = rules[(rules[\"support\"] > 0.2) & (rules[\"confidence\"] > 0.3)]\n",
    "print(rules_filtered)\n"
   ]
  },
  {
   "cell_type": "code",
   "execution_count": null,
   "metadata": {},
   "outputs": [],
   "source": [
    "\n",
    "from joblib import Parallel, delayed\n",
    "\n",
    "def discretize_column(df, col):\n",
    "    bins = np.percentile(df[col], [0, 25, 50, 75, 100])\n",
    "    labels = [f\"{bins[i]:.0f} <= {col} < {bins[i+1]:.0f}\" for i in range(len(bins) - 1)]\n",
    "    return pd.cut(df[col], bins=bins, labels=labels, include_lowest=True)\n",
    "\n",
    "results = Parallel(n_jobs=-1)(delayed(discretize_column)(df_target1, col) for col in num_cols)\n",
    "\n",
    "for i, col in enumerate(num_cols):\n",
    "    df_target1[col] = results[i]\n"
   ]
  }
 ],
 "metadata": {
  "kernelspec": {
   "display_name": "base",
   "language": "python",
   "name": "python3"
  },
  "language_info": {
   "codemirror_mode": {
    "name": "ipython",
    "version": 3
   },
   "file_extension": ".py",
   "mimetype": "text/x-python",
   "name": "python",
   "nbconvert_exporter": "python",
   "pygments_lexer": "ipython3",
   "version": "3.11.3"
  },
  "orig_nbformat": 4
 },
 "nbformat": 4,
 "nbformat_minor": 2
}
